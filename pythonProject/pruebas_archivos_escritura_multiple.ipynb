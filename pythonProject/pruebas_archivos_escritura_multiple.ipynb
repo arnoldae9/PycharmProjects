{
 "cells": [
  {
   "cell_type": "code",
   "execution_count": 23,
   "metadata": {},
   "outputs": [
    {
     "name": "stdout",
     "output_type": "stream",
     "text": [
      "['tsp225.tsp', 'a280.tsp', 'ch130.tsp', 'pr76.tsp', 'lin105.tsp']\n"
     ]
    }
   ],
   "source": [
    "import os\n",
    "direccion = '/home/arnold/PycharmProjects/pythonProject'\n",
    "contenido = os.listdir(direccion)\n",
    "contenido\n",
    "tsp = []\n",
    "for item in contenido:\n",
    "    if os.path.isfile(os.path.join(direccion, item)) and item.endswith('.tsp'):\n",
    "        tsp.append(item)\n",
    "print(tsp)"
   ]
  },
  {
   "cell_type": "code",
   "execution_count": 24,
   "metadata": {},
   "outputs": [
    {
     "name": "stdout",
     "output_type": "stream",
     "text": [
      "NAME : tsp225\n",
      "225\n",
      "NAME : a280\n",
      "280\n",
      "NAME: ch130\n",
      "130\n",
      "NAME : pr76\n",
      "76\n",
      "NAME: lin105\n",
      "105\n"
     ]
    }
   ],
   "source": [
    "with open('nombres.txt','w') as nombres:\n",
    "    for nombre in tsp:  \n",
    "        nombres.write(nombre)\n",
    "        nombres.write('\\n')\n",
    "        data = open(nombre, 'r')  # abre el archivo\n",
    "        datos = data.read().split(\"\\n\")  # lee los elementos del archivo\n",
    "        lista = []\n",
    "        nombre = datos[0]\n",
    "        dimension = datos[3].split()\n",
    "        # arreglar el detalle con el txt ch130 ya que se tiene que cambiar a 1\n",
    "        dim = int(dimension[2])\n",
    "        print(nombre)\n",
    "        print(dim)  "
   ]
  }
 ],
 "metadata": {
  "interpreter": {
   "hash": "916dbcbb3f70747c44a77c7bcd40155683ae19c65e1c03b4aa3499c5328201f1"
  },
  "kernelspec": {
   "display_name": "Python 3.8.10 64-bit",
   "language": "python",
   "name": "python3"
  },
  "language_info": {
   "codemirror_mode": {
    "name": "ipython",
    "version": 3
   },
   "file_extension": ".py",
   "mimetype": "text/x-python",
   "name": "python",
   "nbconvert_exporter": "python",
   "pygments_lexer": "ipython3",
   "version": "3.8.10"
  },
  "orig_nbformat": 4
 },
 "nbformat": 4,
 "nbformat_minor": 2
}
