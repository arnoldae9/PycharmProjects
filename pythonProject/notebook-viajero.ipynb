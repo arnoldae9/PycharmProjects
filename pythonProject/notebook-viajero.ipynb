{
 "cells": [
  {
   "cell_type": "code",
   "execution_count": null,
   "metadata": {},
   "outputs": [],
   "source": [
    "import numpy as np\n",
    "import random\n",
    "data = open('pr76.tsp', 'r')  # abre el archivo\n",
    "datos = data.read().split(\"\\n\")  # lee los elementos del archivo\n",
    "lista = []\n",
    "nombre = datos[0]\n",
    "dimension = datos[3].split()\n",
    "# arreglar el detalle con el txt ch130 ya que se tiene que cambiar a 1\n",
    "dim = int(dimension[2])\n",
    "print(nombre)\n",
    "print(dim)\n",
    "# crear una lista con los subconjuntos\n",
    "subconjuntos = []\n",
    "A = []\n",
    "stop = ['E0F']\n",
    "for item in datos:\n",
    "    if datos.index(item) >= 6 and datos.index(item) < dim + 6:\n",
    "        A.append(item.split())\n",
    "\n",
    "\n",
    "# convertir a enteros\n",
    "for b in A:\n",
    "    for a in b:\n",
    "        b[b.index(a)] = float(a)\n",
    "A = np.array(A)\n",
    "# print(A)\n",
    "\n",
    "# función de distancia\n",
    "def distancia(a, b):\n",
    "    return ((a[1]-b[1])**(2)+(a[2]-b[2])**(2))**0.5\n",
    "\n",
    "lista = []\n",
    "matriz = []\n",
    "for i in range(len(A)):\n",
    "    for j in range(len(A)):\n",
    "        # print(distancia(A[i],A[j]))\n",
    "        lista.append(distancia(A[i], A[j]))\n",
    "    matriz.append(lista)\n",
    "    lista = []\n",
    "matriz = np.array(matriz)\n",
    "print(matriz)\n",
    "\n",
    "# print(len(A))\n",
    "# print(matriz2)\n",
    "# print(matriz)\n",
    "\n",
    "# Hay dos entradas repetidas....\n",
    "# función mínimo de una lista\n",
    "\n",
    "def menor(lista):\n",
    "    min = lista[0]\n",
    "    for x in lista:\n",
    "        if x < min:\n",
    "            min = x\n",
    "    return min\n",
    "\n",
    "\n",
    "limite = []\n",
    "for k in range(dim):\n",
    "    limite.append(k)\n",
    "print(\"¿Con que nodo deseas empezar? \\n\")\n",
    "nodoi = int(input())"
   ]
  },
  {
   "cell_type": "markdown",
   "metadata": {},
   "source": [
    "Inicio del ciclo ...."
   ]
  },
  {
   "cell_type": "code",
   "execution_count": null,
   "metadata": {},
   "outputs": [],
   "source": [
    "visitados = []\n",
    "while len(visitados) <= dim:\n",
    "    if nodoi not in visitados:\n",
    "        visitados.append(nodoi)\n",
    "    else:\n",
    "        break\n",
    "    novisitados = set(limite) - set(visitados)\n",
    "    #TODO el código se rompe cuando la lista novisitados esta vacia.\n",
    "    listcostdisp = []\n",
    "    for i in novisitados:\n",
    "        # costosdisponibles = costdisp\n",
    "        costdisp = matriz[nodoi][i]\n",
    "        listcostdisp.append(costdisp)\n",
    "    if len(listcostdisp) >= 2: \n",
    "        max = np.max(listcostdisp)\n",
    "        print(max)\n",
    "        min = np.min(listcostdisp)\n",
    "        print(min)\n",
    "        rango = max - min\n",
    "        alfa = 0.2\n",
    "        cijmin = min+min*alfa\n",
    "        aleatorios = []\n",
    "        for item in listcostdisp:\n",
    "            if item <= cijmin:\n",
    "                 aleatorios.append(item)\n",
    "        print(aleatorios)\n",
    "        nodoi = np.where(matriz[nodoi] == random.choice(aleatorios))[0][0]\n",
    "        print(nodoi)\n",
    "    elif len(listcostdisp) == 1:\n",
    "        nodoi = np.where(matriz[nodoi] == listcostdisp[0])[0][0]\n",
    "    else:\n",
    "        break"
   ]
  },
  {
   "cell_type": "markdown",
   "metadata": {},
   "source": [
    "Resultados de la construcción"
   ]
  },
  {
   "cell_type": "code",
   "execution_count": null,
   "metadata": {},
   "outputs": [],
   "source": [
    "print(visitados)\n",
    "distancia2 = 0\n",
    "for i in visitados:\n",
    "    for j in visitados:\n",
    "        if visitados.index(i) != visitados.index(j):\n",
    "            if visitados.index(i) - visitados.index(j) == 1:\n",
    "                distancia2 = distancia2 + matriz[i][j]\n",
    "distanciatotal = distancia2 + matriz[visitados[-1]][visitados[0]]\n",
    "print(distanciatotal)\n",
    "distanciainicial = distanciatotal"
   ]
  }
 ],
 "metadata": {
  "interpreter": {
   "hash": "916dbcbb3f70747c44a77c7bcd40155683ae19c65e1c03b4aa3499c5328201f1"
  },
  "kernelspec": {
   "display_name": "Python 3.8.10 64-bit",
   "language": "python",
   "name": "python3"
  },
  "language_info": {
   "codemirror_mode": {
    "name": "ipython",
    "version": 3
   },
   "file_extension": ".py",
   "mimetype": "text/x-python",
   "name": "python",
   "nbconvert_exporter": "python",
   "pygments_lexer": "ipython3",
   "version": "3.8.10"
  },
  "orig_nbformat": 4
 },
 "nbformat": 4,
 "nbformat_minor": 2
}
